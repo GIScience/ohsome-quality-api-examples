{
 "cells": [
  {
   "cell_type": "markdown",
   "id": "f722cdb5",
   "metadata": {},
   "source": [
    "# ohsome quality analyst (OQT) \n",
    "\n",
    "OQT provides quality estimations of OpenStreetMap (OSM) data.\n",
    "OQT calls those estimations Indicators.\n",
    "Indicators are computed for a specific area (`bpolys`) and a certain set of aggregated OSM features (`topic`).\n",
    "\n",
    "Two intrinsic quality estimation OQT offers are the Mapping Saturation indicator and the Currentness indicator.\n",
    "\n",
    "## API Request Examples using Python\n",
    "\n",
    "Below Python is used to make requests to the OQT API."
   ]
  },
  {
   "cell_type": "markdown",
   "id": "5caa2406",
   "metadata": {},
   "source": [
    "### Mapping Saturation Indicator\n",
    "\n",
    "The Mapping Saturation indicator calculate the saturation of mapping activity within the last 3 years.\n",
    "It is based on the premise that each aggregation of features (e.g. length of roads or count of buildings) has a maximum. After increased mapping activity saturation is reached near this maximum.\n",
    "The Mapping Saturation indicator works well with following topics:\n",
    "\n",
    "- Building Count (`building-count`)\n",
    "- Major Roads Length (`major-roads-length`)\n",
    "- Amenities (`amenities`)\n",
    "- Point-of-Interests (`poi`)"
   ]
  },
  {
   "cell_type": "code",
   "execution_count": 1,
   "id": "343b87c9",
   "metadata": {},
   "outputs": [
    {
     "ename": "HTTPError",
     "evalue": "404 Client Error: Not Found for url: https://oqt.ohsome.org/api/indicators/mapping-saturation",
     "output_type": "error",
     "traceback": [
      "\u001b[0;31m---------------------------------------------------------------------------\u001b[0m",
      "\u001b[0;31mHTTPError\u001b[0m                                 Traceback (most recent call last)",
      "Cell \u001b[0;32mIn[1], line 26\u001b[0m\n\u001b[1;32m     20\u001b[0m parameters \u001b[38;5;241m=\u001b[39m {\n\u001b[1;32m     21\u001b[0m     \u001b[38;5;124m\"\u001b[39m\u001b[38;5;124mtopic\u001b[39m\u001b[38;5;124m\"\u001b[39m: \u001b[38;5;124m\"\u001b[39m\u001b[38;5;124mbuilding-count\u001b[39m\u001b[38;5;124m\"\u001b[39m,\n\u001b[1;32m     22\u001b[0m     \u001b[38;5;124m\"\u001b[39m\u001b[38;5;124mbpolys\u001b[39m\u001b[38;5;124m\"\u001b[39m: bpolys,\n\u001b[1;32m     23\u001b[0m }\n\u001b[1;32m     25\u001b[0m response \u001b[38;5;241m=\u001b[39m requests\u001b[38;5;241m.\u001b[39mpost(url, headers\u001b[38;5;241m=\u001b[39mheaders, json\u001b[38;5;241m=\u001b[39mparameters)\n\u001b[0;32m---> 26\u001b[0m \u001b[43mresponse\u001b[49m\u001b[38;5;241;43m.\u001b[39;49m\u001b[43mraise_for_status\u001b[49m\u001b[43m(\u001b[49m\u001b[43m)\u001b[49m  \u001b[38;5;66;03m# Raise an Exception if HTTP Status Code is not 200\u001b[39;00m\n\u001b[1;32m     27\u001b[0m result \u001b[38;5;241m=\u001b[39m response\u001b[38;5;241m.\u001b[39mjson()[\u001b[38;5;124m\"\u001b[39m\u001b[38;5;124mresult\u001b[39m\u001b[38;5;124m\"\u001b[39m][\u001b[38;5;241m0\u001b[39m][\u001b[38;5;124m\"\u001b[39m\u001b[38;5;124mresult\u001b[39m\u001b[38;5;124m\"\u001b[39m]\n\u001b[1;32m     29\u001b[0m \u001b[38;5;66;03m# parse plotly figure\u001b[39;00m\n",
      "File \u001b[0;32m~/work/projects/oqt-examples/venv/lib64/python3.11/site-packages/requests/models.py:1021\u001b[0m, in \u001b[0;36mResponse.raise_for_status\u001b[0;34m(self)\u001b[0m\n\u001b[1;32m   1016\u001b[0m     http_error_msg \u001b[38;5;241m=\u001b[39m (\n\u001b[1;32m   1017\u001b[0m         \u001b[38;5;124mf\u001b[39m\u001b[38;5;124m\"\u001b[39m\u001b[38;5;132;01m{\u001b[39;00m\u001b[38;5;28mself\u001b[39m\u001b[38;5;241m.\u001b[39mstatus_code\u001b[38;5;132;01m}\u001b[39;00m\u001b[38;5;124m Server Error: \u001b[39m\u001b[38;5;132;01m{\u001b[39;00mreason\u001b[38;5;132;01m}\u001b[39;00m\u001b[38;5;124m for url: \u001b[39m\u001b[38;5;132;01m{\u001b[39;00m\u001b[38;5;28mself\u001b[39m\u001b[38;5;241m.\u001b[39murl\u001b[38;5;132;01m}\u001b[39;00m\u001b[38;5;124m\"\u001b[39m\n\u001b[1;32m   1018\u001b[0m     )\n\u001b[1;32m   1020\u001b[0m \u001b[38;5;28;01mif\u001b[39;00m http_error_msg:\n\u001b[0;32m-> 1021\u001b[0m     \u001b[38;5;28;01mraise\u001b[39;00m HTTPError(http_error_msg, response\u001b[38;5;241m=\u001b[39m\u001b[38;5;28mself\u001b[39m)\n",
      "\u001b[0;31mHTTPError\u001b[0m: 404 Client Error: Not Found for url: https://oqt.ohsome.org/api/indicators/mapping-saturation"
     ]
    }
   ],
   "source": [
    "import json\n",
    "\n",
    "import requests\n",
    "from IPython.display import SVG, display\n",
    "import plotly.graph_objects as go\n",
    "import plotly.io as pio\n",
    "\n",
    "\n",
    "base_url = \"https://oqt.ohsome.org/api\"\n",
    "endpoint = \"/indicators\"\n",
    "indicator = \"/mapping-saturation\"\n",
    "url = base_url + endpoint + indicator\n",
    "\n",
    "# OQT size restriction on the input geometry is 100 sqkm\n",
    "with open(\"germany-heidelberg.geojson\", \"r\") as file:\n",
    "    bpolys = json.load(file)\n",
    "\n",
    "headers = {\"accept\": \"application/json\"}\n",
    "\n",
    "parameters = {\n",
    "    \"topic\": \"building-count\",\n",
    "    \"bpolys\": bpolys,\n",
    "}\n",
    "\n",
    "response = requests.post(url, headers=headers, json=parameters)\n",
    "response.raise_for_status()  # Raise an Exception if HTTP Status Code is not 200\n",
    "result = response.json()[\"result\"][0][\"result\"]\n",
    "\n",
    "# parse plotly figure\n",
    "figure = go.Figure(result[\"figure\"])\n",
    "# display plotly figure\n",
    "display(figure)\n",
    "\n",
    "# The Plotly Figure can be converted to a SVG, which can be displayed or saved using the\n",
    "#  following code snippet:\n",
    "\n",
    "# convert figure to SVG\n",
    "# svg = pio.to_image(figure, format='svg')\n",
    "# display(SVG(svg))"
   ]
  },
  {
   "cell_type": "markdown",
   "id": "2ca83557",
   "metadata": {},
   "source": [
    "### Curretness Indicator\n",
    "\n",
    "The Currentness indicator works well with following topics:\n",
    "\n",
    "- Building Count (`building-count`)\n",
    "- Major Roads Count (`major-roads-count`)\n",
    "- Amenities (`amenities`)"
   ]
  },
  {
   "cell_type": "code",
   "execution_count": null,
   "id": "4aac4a91",
   "metadata": {},
   "outputs": [],
   "source": [
    "import json\n",
    "\n",
    "import requests\n",
    "from IPython.display import SVG, display\n",
    "import plotly.graph_objects as go\n",
    "import plotly.io as pio\n",
    "\n",
    "\n",
    "base_url = \"https://oqt.ohsome.org/api\"\n",
    "endpoint = \"/indicators\"\n",
    "indicator = \"/currentness\"\n",
    "url = base_url + endpoint + indicator\n",
    "\n",
    "with open(\"germany-heidelberg.geojson\", \"r\") as file:\n",
    "    bpolys = json.load(file)\n",
    "\n",
    "headers = {\"accept\": \"application/json\"}\n",
    "\n",
    "parameters = {\n",
    "    \"topic\": \"building-count\",\n",
    "    \"bpolys\": bpolys,\n",
    "}\n",
    "\n",
    "response = requests.post(url, headers=headers, json=parameters)\n",
    "response.raise_for_status()  # Raise an Exception if HTTP Status Code is not 200\n",
    "\n",
    "result = response.json()[\"result\"][0][\"result\"]\n",
    "\n",
    "# parse plotly figure\n",
    "figure = go.Figure(result[\"figure\"])\n",
    "# display plotly figure\n",
    "display(figure)"
   ]
  }
 ],
 "metadata": {
  "celltoolbar": "Edit Metadata",
  "kernelspec": {
   "display_name": "Python 3 (ipykernel)",
   "language": "python",
   "name": "python3"
  },
  "language_info": {
   "codemirror_mode": {
    "name": "ipython",
    "version": 3
   },
   "file_extension": ".py",
   "mimetype": "text/x-python",
   "name": "python",
   "nbconvert_exporter": "python",
   "pygments_lexer": "ipython3",
   "version": "3.11.3"
  }
 },
 "nbformat": 4,
 "nbformat_minor": 5
}
